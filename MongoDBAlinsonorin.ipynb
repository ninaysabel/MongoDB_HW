{
 "cells": [
  {
   "cell_type": "code",
   "execution_count": 22,
   "id": "46bd8505-469e-4672-bda2-0b1409e2cb67",
   "metadata": {},
   "outputs": [
    {
     "name": "stdout",
     "output_type": "stream",
     "text": [
      "Requirement already satisfied: pymongo in c:\\miniconda\\envs\\py38_default\\lib\\site-packages (4.3.3)Note: you may need to restart the kernel to use updated packages.\n",
      "Requirement already satisfied: dnspython<3.0.0,>=1.16.0 in c:\\miniconda\\envs\\py38_default\\lib\\site-packages (from pymongo) (2.3.0)\n",
      "\n"
     ]
    }
   ],
   "source": [
    "pip install pymongo"
   ]
  },
  {
   "cell_type": "code",
   "execution_count": 23,
   "id": "812dda96-79d0-4918-bab4-9471685f6828",
   "metadata": {},
   "outputs": [],
   "source": [
    "import os\n",
    "import datetime\n",
    "import pymongo\n",
    "import pprint\n",
    "import pandas as pd"
   ]
  },
  {
   "cell_type": "code",
   "execution_count": 24,
   "id": "99bf0069-b31c-4245-9d75-2f20243504e7",
   "metadata": {},
   "outputs": [],
   "source": [
    "#host_name = \"localhost\"\n",
    "#port = \"27017\"\n",
    "\n",
    "atlas_cluster_name = \"cluster0.0zywi.mongodb.net\"\n",
    "atlas_default_dbname = \"test\"\n",
    "atlas_user_name = \"ds2002\"\n",
    "atlas_password = \"UVA!1819\""
   ]
  },
  {
   "cell_type": "code",
   "execution_count": null,
   "id": "6c9a84ce-772f-4379-bf1b-a2782c418a21",
   "metadata": {},
   "outputs": [],
   "source": [
    "# 3. Write a MongoDB query to display 5 documents sorted by “title” using pretty format in the collection movies.\n",
    "db.movies.find().sort({\"title\":1}).limit(5).pprint()"
   ]
  },
  {
   "cell_type": "code",
   "execution_count": 21,
   "id": "dc886883-7f95-4d3c-bbc8-09455e77e8cb",
   "metadata": {},
   "outputs": [
    {
     "name": "stdout",
     "output_type": "stream",
     "text": [
      "['sample_airbnb', 'sample_analytics', 'sample_geospatial', 'sample_guides', 'sample_mflix', 'sample_restaurants', 'sample_supplies', 'sample_training', 'sample_weatherdata', 'admin', 'local']\n"
     ]
    },
    {
     "ename": "NameError",
     "evalue": "name 'DB_NAME' is not defined",
     "output_type": "error",
     "traceback": [
      "\u001b[1;31m---------------------------------------------------------------------------\u001b[0m",
      "\u001b[1;31mNameError\u001b[0m                                 Traceback (most recent call last)",
      "Input \u001b[1;32mIn [21]\u001b[0m, in \u001b[0;36m<cell line: 2>\u001b[1;34m()\u001b[0m\n\u001b[0;32m      1\u001b[0m \u001b[38;5;28mprint\u001b[39m(client\u001b[38;5;241m.\u001b[39mlist_database_names())\n\u001b[1;32m----> 2\u001b[0m db \u001b[38;5;241m=\u001b[39m client[\u001b[43mDB_NAME\u001b[49m]\n\u001b[0;32m      3\u001b[0m \u001b[38;5;28mprint\u001b[39m(db\u001b[38;5;241m.\u001b[39mlist_collection_names())\n",
      "\u001b[1;31mNameError\u001b[0m: name 'DB_NAME' is not defined"
     ]
    }
   ],
   "source": []
  },
  {
   "cell_type": "code",
   "execution_count": 26,
   "id": "a848e28f-60f5-41c5-961d-e1d9b4c8b22c",
   "metadata": {},
   "outputs": [
    {
     "data": {
      "text/plain": [
       "23530"
      ]
     },
     "execution_count": 26,
     "metadata": {},
     "output_type": "execute_result"
    }
   ],
   "source": [
    "# MOVIES COLLECTION GENERAL QUERIES\n",
    "# 1. Write a MongoDB query to display the total number of documents in the collection movies\n",
    "db.movies.count_documents({})\n",
    "db.comments.count_documents({})"
   ]
  },
  {
   "cell_type": "code",
   "execution_count": 29,
   "id": "45019230-64ce-4a8e-a469-1174972ea202",
   "metadata": {},
   "outputs": [
    {
     "name": "stdout",
     "output_type": "stream",
     "text": [
      "<pymongo.cursor.Cursor object at 0x000002816BA5D2E0>\n"
     ]
    }
   ],
   "source": [
    "# 2. Write a MongoDB query to display any 5 documents using pretty format in the collection \n",
    "print(db.movies.find().limit(5).pprint())"
   ]
  },
  {
   "cell_type": "code",
   "execution_count": null,
   "id": "a83ef8e7-eeba-40ad-bc7c-41da203a490c",
   "metadata": {},
   "outputs": [],
   "source": [
    "# 4. Write a MongoDB query to display 5 documents (display only title and awards) sorted by “title” using pretty format in the collection movies.\n",
    "db.movies.find({}, {\"title\":2, \"awards\":2, \"_id\":0}).sort({\"title\":1}).limit(5).pprint()"
   ]
  },
  {
   "cell_type": "code",
   "execution_count": null,
   "id": "c8ccebf6-7108-437c-9cce-78f68b06838f",
   "metadata": {},
   "outputs": [],
   "source": [
    "# 5. Write a MongoDB query to display 5 documents (display only title and awards) sorted by “title” in descending order using pretty format in the collection movies.\n",
    "db.movies.find({}, {\"_id\": 0, \"title\": 1, \"awards\": 1}).sort({\"title\":-1}), limit(5).pprint()"
   ]
  },
  {
   "cell_type": "code",
   "execution_count": null,
   "id": "d3fa760d-d941-485c-a90d-534ec095803b",
   "metadata": {},
   "outputs": [],
   "source": [
    "# 6. Write a MongoDB query to display movies (display only title and awards) with most awards (number of awards in descending order).\n",
    "db.movies.find({}, {\"_id\": 0, title: 1, awards: 1}).sort({\"awards.wins\": -1}).limit(1).pprint()"
   ]
  },
  {
   "cell_type": "code",
   "execution_count": null,
   "id": "60d50315-12ef-4c0f-837e-73e1cc550faf",
   "metadata": {},
   "outputs": [],
   "source": [
    "# 7. Write a MongoDB query to display the details of the movie that won most awards\n",
    "db.movies.find({}, {\"_id\": 0}).sort({'awards.wins': -1}).limit(1).pprint()"
   ]
  },
  {
   "cell_type": "code",
   "execution_count": null,
   "id": "cd144303-ab07-4192-941b-b279c0352009",
   "metadata": {},
   "outputs": [],
   "source": [
    "# $AND/$ALL OPERATIONS\n",
    "# 1. Write a MongoDB query to display any 5 movies with both the genres: “Adventure” and “Movie” in collection movies (use $all)\n",
    "db.movies.find({\"genres\": {$all: [\"Adventure\", \"Movie\"]}}.limit(5).pprint()"
   ]
  },
  {
   "cell_type": "code",
   "execution_count": null,
   "id": "7d6833e2-1de1-4481-9c3c-06952e9823c5",
   "metadata": {},
   "outputs": [],
   "source": [
    "# 2. Write a MongoDB query to display any 5 movies with both the condition: genres “Adventure” and cast “Tom Hanks”.\n",
    "db.movies.find({$and:[ {\"genres\": {$all:[\"Adventure\"]}}, {\"cast\": {$all:[\"Tom Hanks\"]}} ]}).limit(5).pprint()"
   ]
  },
  {
   "cell_type": "code",
   "execution_count": null,
   "id": "a01d76b8-9792-4868-beeb-dbddb0abd9aa",
   "metadata": {},
   "outputs": [],
   "source": [
    "# AGGREGATION \n",
    "# 1. Write a MongoDB query to display average number of awards won by a movie (use aggregate function with $avg operator).\n",
    "db.movies.aggregate([{$group:{_id: \"\", num: {$avg: \"$awards.wins\"}}}])"
   ]
  },
  {
   "cell_type": "code",
   "execution_count": null,
   "id": "82444660-1ca5-4023-8f81-987868b276a1",
   "metadata": {},
   "outputs": [],
   "source": [
    "# 2. Write a MongoDB query to display most awards won by a movie (use aggregate function with $max operator). Comments Collection General Queries\n",
    "db.movies.aggregate([{$group:{_id: \"\", num: {$max: \"$awards.wins\"}}}])"
   ]
  },
  {
   "cell_type": "code",
   "execution_count": null,
   "id": "d97965b3-6fed-4d66-8f57-38e54a1a7d73",
   "metadata": {},
   "outputs": [],
   "source": [
    "# 3. Write a MongoDB query to display the total number of documents in the collection movies.\n",
    "db.comments.find().count_documents({})"
   ]
  },
  {
   "cell_type": "code",
   "execution_count": null,
   "id": "0226406d-01f9-4efd-ace5-adc79e262c28",
   "metadata": {},
   "outputs": [],
   "source": [
    "# 4. Write a MongoDB query to display the total number of users by name (use db.collection.distinct(field, query, options) and length) in the collection movies.\n",
    "db.collection.distinct(\"name\").length"
   ]
  },
  {
   "cell_type": "code",
   "execution_count": null,
   "id": "972dfbc4-3c76-48bb-8d85-e42669c9eaf5",
   "metadata": {},
   "outputs": [],
   "source": [
    "# 5. Write a MongoDB query to display any 5 documents using pretty format in the collection comments.\n",
    "db.collection.find().limit(5).pprint()"
   ]
  },
  {
   "cell_type": "code",
   "execution_count": null,
   "id": "8f0bcf1f-d070-414d-8bae-a8e6bdcdea2b",
   "metadata": {},
   "outputs": [],
   "source": [
    "# 6. Write a MongoDB query to display 5 documents sorted by name using pretty format in the collection comments.\n",
    "db.collection.find().sort({name: 1}).limit(5).pprint()"
   ]
  },
  {
   "cell_type": "code",
   "execution_count": null,
   "id": "4eb56df4-77af-4536-b45d-7b81f16a782a",
   "metadata": {},
   "outputs": [],
   "source": [
    "# 7. Write a MongoDB query to display 5 latest comments (documents sorted by date in descending order) from \"Megan Richards\" using pretty format in the collection comments\n",
    "db.collection.find({name: \"Megan Richards\"}).sort({\"date\":-1}).limit(5).pprint"
   ]
  }
 ],
 "metadata": {
  "kernelspec": {
   "display_name": "Python 3 (ipykernel)",
   "language": "python",
   "name": "python3"
  },
  "language_info": {
   "codemirror_mode": {
    "name": "ipython",
    "version": 3
   },
   "file_extension": ".py",
   "mimetype": "text/x-python",
   "name": "python",
   "nbconvert_exporter": "python",
   "pygments_lexer": "ipython3",
   "version": "3.8.13"
  }
 },
 "nbformat": 4,
 "nbformat_minor": 5
}
